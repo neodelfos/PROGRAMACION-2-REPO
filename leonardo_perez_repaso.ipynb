{
 "cells": [
  {
   "cell_type": "code",
   "execution_count": 264,
   "metadata": {},
   "outputs": [
    {
     "name": "stdout",
     "output_type": "stream",
     "text": [
      "['punta arenas', 'rio grande', 'montevideo', 'cartagena', 'bogota', 'new york', 'caracas', 'miami', 'madrid', 'paris', 'roma']\n"
     ]
    }
   ],
   "source": [
    "# 1 Crear una lista que contenga nombres de ciudades del mundo. Que contenga mas de 5 elementos e imprimir por patalla\n",
    "ciudades = [\"punta arenas\",\"rio grande\", \"montevideo\",\"cartagena\",\"bogota\",\"new york\",\"caracas\",\"miami\",\"madrid\",\"paris\",\"roma\"]\n",
    "print (ciudades)"
   ]
  },
  {
   "cell_type": "code",
   "execution_count": 265,
   "metadata": {},
   "outputs": [
    {
     "data": {
      "text/plain": [
       "'rio grande'"
      ]
     },
     "execution_count": 265,
     "metadata": {},
     "output_type": "execute_result"
    }
   ],
   "source": [
    "#2 Imprimir por pantalla el segundo elemento de la lista\n",
    "ciudades[1]"
   ]
  },
  {
   "cell_type": "code",
   "execution_count": 266,
   "metadata": {},
   "outputs": [
    {
     "data": {
      "text/plain": [
       "['rio grande', 'montevideo', 'cartagena']"
      ]
     },
     "execution_count": 266,
     "metadata": {},
     "output_type": "execute_result"
    }
   ],
   "source": [
    "#3 Imprimir por pantalla del segundo al cuarto elemento \n",
    "ciudades[1:4]"
   ]
  },
  {
   "cell_type": "code",
   "execution_count": 267,
   "metadata": {},
   "outputs": [
    {
     "name": "stdout",
     "output_type": "stream",
     "text": [
      "['punta arenas', 'rio grande', 'montevideo', 'cartagena', 'bogota', 'new york', 'caracas', 'miami', 'madrid', 'paris', 'roma', 'rio grande', 'las vegas']\n"
     ]
    }
   ],
   "source": [
    "#4 Agregar una ciudad mas a la lista que ya existia y otra qu eno ¿Arroja algun tipo de error?\n",
    "ciudades.append(\"rio grande\")\n",
    "ciudades.append(\"las vegas\")\n",
    "print(ciudades)"
   ]
  },
  {
   "cell_type": "code",
   "execution_count": 268,
   "metadata": {},
   "outputs": [
    {
     "name": "stdout",
     "output_type": "stream",
     "text": [
      "['punta arenas', 'rio grande', 'montevideo', 'washington', 'cartagena', 'bogota', 'new york', 'caracas', 'miami', 'madrid', 'paris', 'roma', 'rio grande', 'las vegas']\n"
     ]
    }
   ],
   "source": [
    "#5 Agregar otra ciudad pero en la cuarta posicion\n",
    "ciudades.insert(3,\"washington\")\n",
    "print(ciudades)"
   ]
  },
  {
   "cell_type": "code",
   "execution_count": 269,
   "metadata": {},
   "outputs": [
    {
     "name": "stdout",
     "output_type": "stream",
     "text": [
      "['punta arenas', 'rio grande', 'montevideo', 'washington', 'cartagena', 'bogota', 'new york', 'caracas', 'miami', 'madrid', 'paris', 'roma', 'rio grande', 'las vegas', 'alemania', 'españa', 'colombia', 'Estados Unidos', 'venezuela', 'brasil', 'francia', 'uruguay', 'japon']\n"
     ]
    }
   ],
   "source": [
    "#6 concatenar otra lista a la ya creada\n",
    "paises = [\"alemania\",\"españa\",\"colombia\",\"Estados Unidos\",\"venezuela\",\"brasil\",\"francia\",\"uruguay\", \"japon\"]\n",
    "ciudades.extend(paises)\n",
    "print(ciudades)"
   ]
  },
  {
   "cell_type": "code",
   "execution_count": 270,
   "metadata": {},
   "outputs": [
    {
     "name": "stdout",
     "output_type": "stream",
     "text": [
      "<class 'tuple'>\n",
      "(1, 2, 3, 4, 5, 6, 7, 8, 9, 10, 11, 12, 13, 14, 15, 16, 17, 18, 19, 20)\n"
     ]
    }
   ],
   "source": [
    "#7 Crear una tupla que contenga los numeros del 1 al 20\n",
    "numeros = (1,2,3,4,5,6,7,8,9,10,11,12,13,14,15,16,17,18,19,20)\n",
    "print(type(numeros))\n",
    "print(numeros)"
   ]
  },
  {
   "cell_type": "code",
   "execution_count": 272,
   "metadata": {},
   "outputs": [
    {
     "name": "stdout",
     "output_type": "stream",
     "text": [
      "(10, 11, 12, 13, 14, 15)\n"
     ]
    }
   ],
   "source": [
    "#8 Imprimir desde el indice 10 al 15 de la tupla\n",
    "print(numeros[9:15])"
   ]
  },
  {
   "cell_type": "code",
   "execution_count": 273,
   "metadata": {},
   "outputs": [],
   "source": [
    "#9 Desempaquetar solo los primeros 3 elementos en 3 variables\n",
    "#primero, segundo, tercero = numeros\n",
    "#print(primero)\n",
    "#print(segundo)\n",
    "#print(tercero)"
   ]
  },
  {
   "cell_type": "code",
   "execution_count": 274,
   "metadata": {},
   "outputs": [
    {
     "name": "stdout",
     "output_type": "stream",
     "text": [
      "('ciudad', 'montevideo')\n",
      "('continente', 'america')\n",
      "('pais', 'argentinacampeondelmundo')\n",
      "ciudad\n",
      "continente\n",
      "pais\n"
     ]
    }
   ],
   "source": [
    "#10 crear un diccionario con la lista creada en el punto 1, asignandole la clave \"ciudad\" agregar tambien otras claves, como puede ser \"Pais\", \"Continente\"\n",
    "ciudades = {\"ciudad\" : \"montevideo\", \"continente\" : \"america\", \"pais\" : \"argentinacampeondelmundo\"}\n",
    "for key in ciudades.items():\n",
    "    print (key)\n",
    "for key in ciudades:\n",
    "    print (key)\n",
    "\n",
    "\n",
    "\n"
   ]
  },
  {
   "cell_type": "code",
   "execution_count": 275,
   "metadata": {},
   "outputs": [
    {
     "name": "stdout",
     "output_type": "stream",
     "text": [
      "ciudad\n",
      "continente\n",
      "pais\n"
     ]
    }
   ],
   "source": [
    "#11 Imprimir las claves del diccionario\n",
    "ciudades = {\"ciudad\" : \"montevideo\", \"continente\" : \"america\", \"pais\" : \"argentinacampeondelmundo\"}\n",
    "for key in ciudades:\n",
    "    print (key)\n",
    "\n",
    "\n",
    "\n",
    "\n",
    "\n"
   ]
  },
  {
   "cell_type": "code",
   "execution_count": 276,
   "metadata": {},
   "outputs": [
    {
     "name": "stdout",
     "output_type": "stream",
     "text": [
      "('ciudad', 'montevideo')\n",
      "('continente', 'america')\n",
      "('pais', 'argentinacampeondelmundo')\n"
     ]
    }
   ],
   "source": [
    "#12 Imprimir ciudades a traves de su clave\n",
    "ciudades = {\"ciudad\" : \"montevideo\", \"continente\" : \"america\", \"pais\" : \"argentinacampeondelmundo\"}\n",
    "for key in ciudades.items():\n",
    "    print (key)\n",
    "    \n"
   ]
  },
  {
   "cell_type": "code",
   "execution_count": 280,
   "metadata": {},
   "outputs": [
    {
     "name": "stdout",
     "output_type": "stream",
     "text": [
      "el numero es mayor a cero\n"
     ]
    }
   ],
   "source": [
    "#13 crear una variable que contenga un elemento del conjunto de numeros enteros y luego imprimir por pantalla si es mayor o menor a cero\n",
    "n = (10)\n",
    "if n > 0:\n",
    "    print (\"el numero es mayor a cero\")\n",
    "    if n < 0:\n",
    "        print (\"el numero es menor a cero\")\n",
    "\n",
    "\n"
   ]
  },
  {
   "cell_type": "code",
   "execution_count": 281,
   "metadata": {},
   "outputs": [
    {
     "data": {
      "text/plain": [
       "(int, str)"
      ]
     },
     "execution_count": 281,
     "metadata": {},
     "output_type": "execute_result"
    }
   ],
   "source": [
    "#14 crear dos variables y un condicional que informe si son del mismo tipo de dato\n",
    "n = (50)\n",
    "dato = (\"cualquier cosa\")\n",
    "type(n), type(dato)\n"
   ]
  },
  {
   "cell_type": "code",
   "execution_count": 282,
   "metadata": {},
   "outputs": [
    {
     "name": "stdout",
     "output_type": "stream",
     "text": [
      "no son el mismo tipo de dato\n"
     ]
    }
   ],
   "source": [
    "#14 bis crear dos variables y un condicional que informe si son del mismo tipo de dato\n",
    "n = (50)\n",
    "dato = (\"cualqueir cosa\")\n",
    "\n",
    "if type(n) == type(dato):\n",
    "    print (\"son el mismo tipo de dato\")\n",
    "else:\n",
    "    print (\"no son el mismo tipo de dato\")"
   ]
  },
  {
   "cell_type": "code",
   "execution_count": 16,
   "metadata": {},
   "outputs": [
    {
     "name": "stdout",
     "output_type": "stream",
     "text": [
      "1 es impar\n",
      "2 es par\n",
      "3 es impar\n",
      "4 es par\n",
      "5 es impar\n",
      "6 es par\n",
      "7 es impar\n",
      "8 es par\n",
      "9 es impar\n",
      "10 es par\n",
      "11 es impar\n",
      "12 es par\n",
      "13 es impar\n",
      "14 es par\n",
      "15 es impar\n",
      "16 es par\n",
      "17 es impar\n",
      "18 es par\n",
      "19 es impar\n",
      "20 es par\n"
     ]
    }
   ],
   "source": [
    "#15 para los valores enteros del 1 al 20, imprimir por pantalla si es par o impar\n",
    "i = 0\n",
    "while i < 20:\n",
    "    i+=1\n",
    "    if i % 2 == 0:\n",
    "        print(i, \"es par\")\n",
    "    else:\n",
    "        print(i, \"es impar\")"
   ]
  },
  {
   "cell_type": "code",
   "execution_count": 283,
   "metadata": {},
   "outputs": [
    {
     "name": "stdout",
     "output_type": "stream",
     "text": [
      "0\n",
      "1\n",
      "8\n",
      "27\n",
      "64\n",
      "125\n"
     ]
    }
   ],
   "source": [
    "#16 en un ciclo for, mostrar para los valores entre 0 y 5 el resultado de elevarlo a la potencia = a 3\n",
    "for n in range(0,6):\n",
    "    n = n**3\n",
    "    print(n)"
   ]
  },
  {
   "cell_type": "code",
   "execution_count": 284,
   "metadata": {},
   "outputs": [
    {
     "name": "stdout",
     "output_type": "stream",
     "text": [
      "0\n",
      "1\n",
      "2\n",
      "3\n",
      "4\n"
     ]
    }
   ],
   "source": [
    "#17 crear una variable que contenga un numero entero y realizar un ciclo for, la misma cantidad de ciclos\n",
    "n = (5)\n",
    "for n in range(n):\n",
    "    print(n)"
   ]
  },
  {
   "cell_type": "code",
   "execution_count": 43,
   "metadata": {},
   "outputs": [
    {
     "name": "stdout",
     "output_type": "stream",
     "text": [
      "5\n",
      "25\n",
      "125\n",
      "625\n",
      "3125\n"
     ]
    }
   ],
   "source": [
    "#18 Utilizar un ciclo while para realizar el factorial de un numero guardado en una variable, si la variable contiene un numero mayor a 0.\n",
    "n = (5)\n",
    "if n > 0:\n",
    "    factorial = 1\n",
    "    i = 1 \n",
    "    while (i<=n):\n",
    "        factorial = factorial * n\n",
    "        i = i + 1\n",
    "        print (factorial)\n",
    "\n",
    "        "
   ]
  },
  {
   "cell_type": "code",
   "execution_count": 234,
   "metadata": {},
   "outputs": [
    {
     "name": "stdout",
     "output_type": "stream",
     "text": [
      "108\n",
      "120\n",
      "132\n",
      "144\n",
      "156\n",
      "168\n",
      "180\n",
      "192\n",
      "204\n",
      "216\n",
      "228\n",
      "240\n",
      "252\n",
      "264\n",
      "276\n",
      "288\n",
      "300\n"
     ]
    }
   ],
   "source": [
    "#19 Aplicando continue, armar un ciclo while que solo imprima los valores divisibles por 12, dentro de un rango de 100 a 300\n",
    "n = 100\n",
    "while n <= 300:\n",
    "    if n % 12 != 0:\n",
    "        n += 1\n",
    "        continue\n",
    "    print(n)\n",
    "    n += 1\n",
    "    \n"
   ]
  },
  {
   "cell_type": "code",
   "execution_count": 285,
   "metadata": {},
   "outputs": [
    {
     "name": "stdout",
     "output_type": "stream",
     "text": [
      "102\n"
     ]
    }
   ],
   "source": [
    "#20 Crear un ciclo while que encuentre dentro del rango de 100 a 300 el primer numero divisible por 3 y ademas multipo de 6.\n",
    "n = 100\n",
    "while n <= 300:\n",
    "    if n % 3 == 0 and n % 6 == 0:\n",
    "        print(n)\n",
    "        break\n",
    "    n += 1\n"
   ]
  },
  {
   "cell_type": "code",
   "execution_count": 237,
   "metadata": {},
   "outputs": [
    {
     "name": "stdout",
     "output_type": "stream",
     "text": [
      "La letra 'n' aparece en la posición 7\n",
      "La letra 'n' aparece en la posición 21\n",
      "La letra 'n' aparece en la posición 39\n",
      "La letra 'n' aparece en la posición 60\n",
      "La letra 'n' aparece en la posición 67\n"
     ]
    }
   ],
   "source": [
    "#21 A partir de la variable cadena ya dada, mostrar en que posiciones aparece la letra ´n´ cadena = ´Hola Mundo. esto es una practica del lenguaje de programacion Python´\n",
    "cadena = \"Hola Mundo. esto es una practica del lenguaje de programacion Python\"\n",
    "letra =list(cadena)\n",
    "for indice, letra in enumerate(cadena):\n",
    "    if letra == 'n':\n",
    "        print(f\"La letra 'n' aparece en la posición {indice}\")"
   ]
  },
  {
   "cell_type": "code",
   "execution_count": 220,
   "metadata": {},
   "outputs": [
    {
     "name": "stdout",
     "output_type": "stream",
     "text": [
      "Hola\n",
      "Mundo.\n",
      "esto\n",
      "es\n",
      "una\n",
      "practica\n",
      "del\n",
      "lenguaje\n",
      "de\n",
      "programacion\n",
      "Python\n"
     ]
    }
   ],
   "source": [
    "#22 Convertir en una lista la variable cadena del punto anterior y luego recorrerla con un iterador\n",
    "cadenalista = ['Hola','Mundo.','esto','es','una','practica','del','lenguaje','de','programacion','Python']\n",
    "for (n) in cadenalista:\n",
    "    print(n)"
   ]
  }
 ],
 "metadata": {
  "kernelspec": {
   "display_name": "Python 3",
   "language": "python",
   "name": "python3"
  },
  "language_info": {
   "codemirror_mode": {
    "name": "ipython",
    "version": 3
   },
   "file_extension": ".py",
   "mimetype": "text/x-python",
   "name": "python",
   "nbconvert_exporter": "python",
   "pygments_lexer": "ipython3",
   "version": "3.11.3"
  },
  "orig_nbformat": 4
 },
 "nbformat": 4,
 "nbformat_minor": 2
}
