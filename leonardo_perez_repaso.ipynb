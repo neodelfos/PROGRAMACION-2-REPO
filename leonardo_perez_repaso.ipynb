{
 "cells": [
  {
   "cell_type": "code",
   "execution_count": 1,
   "metadata": {},
   "outputs": [
    {
     "name": "stdout",
     "output_type": "stream",
     "text": [
      "['montevideo', 'florianopolis', 'bogota', 'caracas', 'miami', 'madrid', 'paris', 'roma']\n"
     ]
    }
   ],
   "source": [
    "# 1\n",
    "ciudades = [\"montevideo\",\"florianopolis\",\"bogota\",\"caracas\",\"miami\",\"madrid\",\"paris\",\"roma\"]\n",
    "print (ciudades)"
   ]
  },
  {
   "cell_type": "code",
   "execution_count": 5,
   "metadata": {},
   "outputs": [
    {
     "data": {
      "text/plain": [
       "'florianopolis'"
      ]
     },
     "execution_count": 5,
     "metadata": {},
     "output_type": "execute_result"
    }
   ],
   "source": [
    "#2\n",
    "ciudades[1]"
   ]
  },
  {
   "cell_type": "code",
   "execution_count": 8,
   "metadata": {},
   "outputs": [
    {
     "data": {
      "text/plain": [
       "['florianopolis', 'bogota', 'caracas']"
      ]
     },
     "execution_count": 8,
     "metadata": {},
     "output_type": "execute_result"
    }
   ],
   "source": [
    "#3\n",
    "ciudades[1:4]"
   ]
  },
  {
   "cell_type": "code",
   "execution_count": 13,
   "metadata": {},
   "outputs": [
    {
     "name": "stdout",
     "output_type": "stream",
     "text": [
      "['montevideo', 'florianopolis', 'bogota', 'caracas', 'miami', 'madrid', 'paris', 'roma', 'berlin', 'miami', 'miami', 'berlin']\n"
     ]
    }
   ],
   "source": [
    "#4\n",
    "ciudades.append(\"miami\")\n",
    "ciudades.append(\"berlin\")\n",
    "print(ciudades)"
   ]
  },
  {
   "cell_type": "code",
   "execution_count": 14,
   "metadata": {},
   "outputs": [
    {
     "name": "stdout",
     "output_type": "stream",
     "text": [
      "['montevideo', 'florianopolis', 'bogota', 'barcelona', 'caracas', 'miami', 'madrid', 'paris', 'roma', 'berlin', 'miami', 'miami', 'berlin']\n"
     ]
    }
   ],
   "source": [
    "#5\n",
    "ciudades.insert(3,\"barcelona\")\n",
    "print(ciudades)"
   ]
  },
  {
   "cell_type": "code",
   "execution_count": 15,
   "metadata": {},
   "outputs": [
    {
     "name": "stdout",
     "output_type": "stream",
     "text": [
      "['montevideo', 'florianopolis', 'bogota', 'barcelona', 'caracas', 'miami', 'madrid', 'paris', 'roma', 'berlin', 'miami', 'miami', 'berlin', 'uruguay', 'brasil', 'venezuela', 'EEUU', 'colombia', 'españa', 'francia', 'alemania']\n"
     ]
    }
   ],
   "source": [
    "#6\n",
    "paises = [\"uruguay\",\"brasil\",\"venezuela\",\"EEUU\",\"colombia\",\"españa\",\"francia\",\"alemania\"]\n",
    "ciudades.extend(paises)\n",
    "print(ciudades)"
   ]
  },
  {
   "cell_type": "code",
   "execution_count": 17,
   "metadata": {},
   "outputs": [
    {
     "name": "stdout",
     "output_type": "stream",
     "text": [
      "<class 'tuple'>\n",
      "(1, 2, 3, 4, 5, 6, 7, 8, 9, 10, 11, 12, 13, 14, 15, 16, 17, 18, 19, 20)\n"
     ]
    }
   ],
   "source": [
    "#7\n",
    "numeros = (1,2,3,4,5,6,7,8,9,10,11,12,13,14,15,16,17,18,19,20)\n",
    "print(type(numeros))\n",
    "print(numeros)"
   ]
  },
  {
   "cell_type": "code",
   "execution_count": 21,
   "metadata": {},
   "outputs": [
    {
     "name": "stdout",
     "output_type": "stream",
     "text": [
      "(10, 11, 12, 13, 14, 15)\n"
     ]
    }
   ],
   "source": [
    "#8\n",
    "print(numeros[9:15])"
   ]
  },
  {
   "cell_type": "code",
   "execution_count": 43,
   "metadata": {},
   "outputs": [],
   "source": [
    "#9 VER\n",
    "#primero, segundo, tercero = numeros\n",
    "#print(primero)\n",
    "#print(segundo)\n",
    "#print(tercero)"
   ]
  },
  {
   "cell_type": "code",
   "execution_count": 24,
   "metadata": {},
   "outputs": [
    {
     "name": "stdout",
     "output_type": "stream",
     "text": [
      "('ciudad', 'montevideo')\n",
      "('continente', 'america')\n",
      "('pais', 'argentinacampeondelmundo')\n",
      "ciudad\n",
      "continente\n",
      "pais\n"
     ]
    }
   ],
   "source": [
    "#10 crear un diccionario con la lista creada en el punto 1, asignandole la clave \"ciudad\" agregar tambien otras claves, como puede ser \"Pais\", \"Continente\"\n",
    "ciudades = {\"ciudad\" : \"montevideo\", \"continente\" : \"america\", \"pais\" : \"argentinacampeondelmundo\"}\n",
    "for key in ciudades.items():\n",
    "    print (key)\n",
    "for key in ciudades:\n",
    "    print (key)\n",
    "\n",
    "\n",
    "\n"
   ]
  },
  {
   "cell_type": "code",
   "execution_count": 23,
   "metadata": {},
   "outputs": [
    {
     "name": "stdout",
     "output_type": "stream",
     "text": [
      "ciudad\n",
      "continente\n",
      "pais\n"
     ]
    }
   ],
   "source": [
    "#11 Imprimir las claves del diccionario\n",
    "ciudades = {\"ciudad\" : \"montevideo\", \"continente\" : \"america\", \"pais\" : \"argentinacampeondelmundo\"}\n",
    "for key in ciudades:\n",
    "    print (key)\n",
    "\n",
    "\n",
    "\n",
    "\n",
    "\n"
   ]
  },
  {
   "cell_type": "code",
   "execution_count": 21,
   "metadata": {},
   "outputs": [
    {
     "name": "stdout",
     "output_type": "stream",
     "text": [
      "('ciudad', 'montevideo')\n",
      "('continente', 'america')\n",
      "('pais', 'argentinacampeondelmundo')\n"
     ]
    }
   ],
   "source": [
    "#12 Imprimir ciudades a traves de su clave\n",
    "ciudades = {\"ciudad\" : \"montevideo\", \"continente\" : \"america\", \"pais\" : \"argentinacampeondelmundo\"}\n",
    "for key in ciudades.items():\n",
    "    print (key)\n",
    "    \n"
   ]
  },
  {
   "cell_type": "code",
   "execution_count": null,
   "metadata": {},
   "outputs": [
    {
     "name": "stdout",
     "output_type": "stream",
     "text": [
      "el numero es mayor a cero\n"
     ]
    }
   ],
   "source": [
    "#13 crear una variable que contenga un elemento del conjunto de numeros enteros y luego imprimir por pantalla si es mayor o menor a cero\n",
    "numero = (10)\n",
    "if numero > 0:\n",
    "    print (\"el numero es mayor a cero\")\n",
    "    if numero < 0:\n",
    "        print (\"el numero es menor a cero\")\n",
    "\n",
    "\n"
   ]
  },
  {
   "cell_type": "code",
   "execution_count": 1,
   "metadata": {},
   "outputs": [
    {
     "data": {
      "text/plain": [
       "(int, str)"
      ]
     },
     "execution_count": 1,
     "metadata": {},
     "output_type": "execute_result"
    }
   ],
   "source": [
    "#14 crear dos variables y un condicional que informe si son del mismo tipo de dato\n",
    "numero = (50)\n",
    "dato = (\"cualquier cosa\")\n",
    "type(numero), type(dato)\n"
   ]
  },
  {
   "cell_type": "code",
   "execution_count": 4,
   "metadata": {},
   "outputs": [
    {
     "name": "stdout",
     "output_type": "stream",
     "text": [
      "no son el mismo tipo de dato\n"
     ]
    }
   ],
   "source": [
    "#14 bis crear dos variables y un condicional que informe si son del mismo tipo de dato\n",
    "numero = (50)\n",
    "dato = (\"cualqueir cosa\")\n",
    "\n",
    "if type(numero) == type(dato):\n",
    "    print (\"son el mismo tipo de dato\")\n",
    "else:\n",
    "    print (\"no son el mismo tipo de dato\")"
   ]
  },
  {
   "cell_type": "code",
   "execution_count": 16,
   "metadata": {},
   "outputs": [
    {
     "name": "stdout",
     "output_type": "stream",
     "text": [
      "1 es impar\n",
      "2 es par\n",
      "3 es impar\n",
      "4 es par\n",
      "5 es impar\n",
      "6 es par\n",
      "7 es impar\n",
      "8 es par\n",
      "9 es impar\n",
      "10 es par\n",
      "11 es impar\n",
      "12 es par\n",
      "13 es impar\n",
      "14 es par\n",
      "15 es impar\n",
      "16 es par\n",
      "17 es impar\n",
      "18 es par\n",
      "19 es impar\n",
      "20 es par\n"
     ]
    }
   ],
   "source": [
    "#15 para los valores enteros del 1 al 20, imprimir por pantalla si es par o impar\n",
    "i = 0\n",
    "while i < 20:\n",
    "    i+=1\n",
    "    if i % 2 == 0:\n",
    "        print(i, \"es par\")\n",
    "    else:\n",
    "        print(i, \"es impar\")"
   ]
  },
  {
   "cell_type": "code",
   "execution_count": 19,
   "metadata": {},
   "outputs": [
    {
     "name": "stdout",
     "output_type": "stream",
     "text": [
      "0\n",
      "1\n",
      "8\n",
      "27\n",
      "64\n",
      "125\n"
     ]
    }
   ],
   "source": [
    "#16 en un ciclo for, mostrar para los valores entre 0 y 5 el resultado de elevarlo a la potencia = a 3\n",
    "for numero in range(0,6):\n",
    "    numero = numero**3\n",
    "    print(numero)"
   ]
  },
  {
   "cell_type": "code",
   "execution_count": 26,
   "metadata": {},
   "outputs": [
    {
     "name": "stdout",
     "output_type": "stream",
     "text": [
      "0\n",
      "1\n",
      "2\n",
      "3\n",
      "4\n"
     ]
    }
   ],
   "source": [
    "#17 crear una variable que contenga un numero entero y realizar un ciclo for, la misma cantidad de ciclos\n",
    "numero = (5)\n",
    "for numero in range(numero):\n",
    "    print(numero)"
   ]
  },
  {
   "cell_type": "code",
   "execution_count": 43,
   "metadata": {},
   "outputs": [
    {
     "name": "stdout",
     "output_type": "stream",
     "text": [
      "5\n",
      "25\n",
      "125\n",
      "625\n",
      "3125\n"
     ]
    }
   ],
   "source": [
    "#18 Utilizar un ciclo while para realizar el factorial de un numero guardado en una variable, si la variable contiene un numero mayor a 0.\n",
    "numero = (5)\n",
    "if numero > 0:\n",
    "    factorial = 1\n",
    "    i = 1 \n",
    "    while (i<=numero):\n",
    "        factorial = factorial * numero\n",
    "        i = i + 1\n",
    "        print (factorial)\n",
    "\n",
    "        "
   ]
  },
  {
   "cell_type": "code",
   "execution_count": null,
   "metadata": {},
   "outputs": [],
   "source": []
  }
 ],
 "metadata": {
  "kernelspec": {
   "display_name": "Python 3",
   "language": "python",
   "name": "python3"
  },
  "language_info": {
   "codemirror_mode": {
    "name": "ipython",
    "version": 3
   },
   "file_extension": ".py",
   "mimetype": "text/x-python",
   "name": "python",
   "nbconvert_exporter": "python",
   "pygments_lexer": "ipython3",
   "version": "3.11.3"
  },
  "orig_nbformat": 4
 },
 "nbformat": 4,
 "nbformat_minor": 2
}
