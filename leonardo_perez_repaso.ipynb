{
 "cells": [
  {
   "cell_type": "code",
   "execution_count": 1,
   "metadata": {},
   "outputs": [
    {
     "name": "stdout",
     "output_type": "stream",
     "text": [
      "['montevideo', 'florianopolis', 'bogota', 'caracas', 'miami', 'madrid', 'paris', 'roma']\n"
     ]
    }
   ],
   "source": [
    "# 1\n",
    "ciudades = [\"montevideo\",\"florianopolis\",\"bogota\",\"caracas\",\"miami\",\"madrid\",\"paris\",\"roma\"]\n",
    "print (ciudades)"
   ]
  },
  {
   "cell_type": "code",
   "execution_count": 5,
   "metadata": {},
   "outputs": [
    {
     "data": {
      "text/plain": [
       "'florianopolis'"
      ]
     },
     "execution_count": 5,
     "metadata": {},
     "output_type": "execute_result"
    }
   ],
   "source": [
    "#2\n",
    "ciudades[1]"
   ]
  },
  {
   "cell_type": "code",
   "execution_count": 8,
   "metadata": {},
   "outputs": [
    {
     "data": {
      "text/plain": [
       "['florianopolis', 'bogota', 'caracas']"
      ]
     },
     "execution_count": 8,
     "metadata": {},
     "output_type": "execute_result"
    }
   ],
   "source": [
    "#3\n",
    "ciudades[1:4]"
   ]
  },
  {
   "cell_type": "code",
   "execution_count": 13,
   "metadata": {},
   "outputs": [
    {
     "name": "stdout",
     "output_type": "stream",
     "text": [
      "['montevideo', 'florianopolis', 'bogota', 'caracas', 'miami', 'madrid', 'paris', 'roma', 'berlin', 'miami', 'miami', 'berlin']\n"
     ]
    }
   ],
   "source": [
    "#4\n",
    "ciudades.append(\"miami\")\n",
    "ciudades.append(\"berlin\")\n",
    "print(ciudades)"
   ]
  },
  {
   "cell_type": "code",
   "execution_count": 14,
   "metadata": {},
   "outputs": [
    {
     "name": "stdout",
     "output_type": "stream",
     "text": [
      "['montevideo', 'florianopolis', 'bogota', 'barcelona', 'caracas', 'miami', 'madrid', 'paris', 'roma', 'berlin', 'miami', 'miami', 'berlin']\n"
     ]
    }
   ],
   "source": [
    "#5\n",
    "ciudades.insert(3,\"barcelona\")\n",
    "print(ciudades)"
   ]
  },
  {
   "cell_type": "code",
   "execution_count": 15,
   "metadata": {},
   "outputs": [
    {
     "name": "stdout",
     "output_type": "stream",
     "text": [
      "['montevideo', 'florianopolis', 'bogota', 'barcelona', 'caracas', 'miami', 'madrid', 'paris', 'roma', 'berlin', 'miami', 'miami', 'berlin', 'uruguay', 'brasil', 'venezuela', 'EEUU', 'colombia', 'españa', 'francia', 'alemania']\n"
     ]
    }
   ],
   "source": [
    "#6\n",
    "paises = [\"uruguay\",\"brasil\",\"venezuela\",\"EEUU\",\"colombia\",\"españa\",\"francia\",\"alemania\"]\n",
    "ciudades.extend(paises)\n",
    "print(ciudades)"
   ]
  },
  {
   "cell_type": "code",
   "execution_count": 17,
   "metadata": {},
   "outputs": [
    {
     "name": "stdout",
     "output_type": "stream",
     "text": [
      "<class 'tuple'>\n",
      "(1, 2, 3, 4, 5, 6, 7, 8, 9, 10, 11, 12, 13, 14, 15, 16, 17, 18, 19, 20)\n"
     ]
    }
   ],
   "source": [
    "#7\n",
    "numeros = (1,2,3,4,5,6,7,8,9,10,11,12,13,14,15,16,17,18,19,20)\n",
    "print(type(numeros))\n",
    "print(numeros)"
   ]
  },
  {
   "cell_type": "code",
   "execution_count": 21,
   "metadata": {},
   "outputs": [
    {
     "name": "stdout",
     "output_type": "stream",
     "text": [
      "(10, 11, 12, 13, 14, 15)\n"
     ]
    }
   ],
   "source": [
    "#8\n",
    "print(numeros[9:15])"
   ]
  },
  {
   "cell_type": "code",
   "execution_count": 43,
   "metadata": {},
   "outputs": [],
   "source": [
    "#9 VER\n",
    "#primero, segundo, tercero = numeros\n",
    "#print(primero)\n",
    "#print(segundo)\n",
    "#print(tercero)"
   ]
  },
  {
   "cell_type": "code",
   "execution_count": 24,
   "metadata": {},
   "outputs": [
    {
     "name": "stdout",
     "output_type": "stream",
     "text": [
      "('ciudad', 'montevideo')\n",
      "('continente', 'america')\n",
      "('pais', 'argentinacampeondelmundo')\n",
      "ciudad\n",
      "continente\n",
      "pais\n"
     ]
    }
   ],
   "source": [
    "#10 crear un diccionario con la lista creada en el punto 1, asignandole la clave \"ciudad\" agregar tambien otras claves, como puede ser \"Pais\", \"Continente\"\n",
    "ciudades = {\"ciudad\" : \"montevideo\", \"continente\" : \"america\", \"pais\" : \"argentinacampeondelmundo\"}\n",
    "for key in ciudades.items():\n",
    "    print (key)\n",
    "for key in ciudades:\n",
    "    print (key)\n",
    "\n",
    "\n",
    "\n"
   ]
  },
  {
   "cell_type": "code",
   "execution_count": 23,
   "metadata": {},
   "outputs": [
    {
     "name": "stdout",
     "output_type": "stream",
     "text": [
      "ciudad\n",
      "continente\n",
      "pais\n"
     ]
    }
   ],
   "source": [
    "#11 Imprimir las claves del diccionario\n",
    "ciudades = {\"ciudad\" : \"montevideo\", \"continente\" : \"america\", \"pais\" : \"argentinacampeondelmundo\"}\n",
    "for key in ciudades:\n",
    "    print (key)\n",
    "\n",
    "\n",
    "\n",
    "\n",
    "\n"
   ]
  },
  {
   "cell_type": "code",
   "execution_count": 21,
   "metadata": {},
   "outputs": [
    {
     "name": "stdout",
     "output_type": "stream",
     "text": [
      "('ciudad', 'montevideo')\n",
      "('continente', 'america')\n",
      "('pais', 'argentinacampeondelmundo')\n"
     ]
    }
   ],
   "source": [
    "#12 Imprimir ciudades a traves de su clave\n",
    "ciudades = {\"ciudad\" : \"montevideo\", \"continente\" : \"america\", \"pais\" : \"argentinacampeondelmundo\"}\n",
    "for key in ciudades.items():\n",
    "    print (key)\n",
    "    \n"
   ]
  },
  {
   "cell_type": "code",
   "execution_count": 43,
   "metadata": {},
   "outputs": [
    {
     "name": "stdout",
     "output_type": "stream",
     "text": [
      "el numero es mayor a cero\n"
     ]
    }
   ],
   "source": [
    "#13 crear una variable que contenga un elemento del conjunto de numeros enteros y luego imprimir por pantalla si es mayor o menor a cero\n",
    "numero = (10)\n",
    "if numero > 0:\n",
    "    print (\"el numero es mayor a cero\")\n",
    "    if numero < 0:\n",
    "        print (\"el numero es menor a cero\")\n",
    "\n",
    "\n"
   ]
  },
  {
   "cell_type": "code",
   "execution_count": 71,
   "metadata": {},
   "outputs": [
    {
     "data": {
      "text/plain": [
       "(int, str)"
      ]
     },
     "execution_count": 71,
     "metadata": {},
     "output_type": "execute_result"
    }
   ],
   "source": [
    "#14 crear dos variables y un condicional que informe si son del mismo tipo de dato\n",
    "numero = (50)\n",
    "dato = (\"cualquier cosa\")\n",
    "type(numero), type(dato)\n",
    "\n",
    "\n",
    "\n",
    "\n"
   ]
  },
  {
   "cell_type": "code",
   "execution_count": 95,
   "metadata": {},
   "outputs": [
    {
     "name": "stdout",
     "output_type": "stream",
     "text": [
      "no son el mismo tipo de dato\n"
     ]
    }
   ],
   "source": [
    "#14 bis crear dos variables y un condicional que informe si son del mismo tipo de dato\n",
    "numero = (50)\n",
    "dato = (\"cualquier cosa\")\n",
    "\n",
    "if type(numero) == type(dato):\n",
    "    print (\"son el mismo tipo de dato\")\n",
    "else:\n",
    "    print (\"no son el mismo tipo de dato\")"
   ]
  },
  {
   "cell_type": "code",
   "execution_count": 169,
   "metadata": {},
   "outputs": [
    {
     "name": "stdout",
     "output_type": "stream",
     "text": [
      "1 Par\n",
      "2 Par\n",
      "3 Par\n",
      "4 Par\n",
      "5 Par\n",
      "6 Par\n",
      "7 Par\n",
      "8 Par\n",
      "9 Par\n",
      "10 Par\n",
      "11 Par\n",
      "12 Par\n",
      "13 Par\n",
      "14 Par\n",
      "15 Par\n",
      "16 Par\n",
      "17 Par\n",
      "18 Par\n",
      "19 Par\n",
      "20 Par\n",
      "20 Impar\n"
     ]
    }
   ],
   "source": [
    "#15 para los valores enteros del 1 al 20, imprimir por pantalla si es par o impar\n",
    "for valores in range(1, 21):\n",
    "    valores in range(1, 21, 2)\n",
    "    print(valores, \"Par\")\n",
    "    valores in range(1, 21, 1)\n",
    "print(valores, \"Impar\")\n",
    "\n",
    "\n",
    "\n",
    "\n",
    "  "
   ]
  },
  {
   "cell_type": "code",
   "execution_count": 185,
   "metadata": {},
   "outputs": [
    {
     "name": "stdout",
     "output_type": "stream",
     "text": [
      "[1, 2, 3, 4, 5, 6, 7, 8, 9, 10, 11, 12, 13, 14, 15, 16, 17, 18, 19, 20] es par.\n"
     ]
    }
   ],
   "source": [
    "#15 para los valores enteros del 1 al 20, imprimir por pantalla si es par o impar\n",
    "lista = [1,2,3,4,5,6,7,8,9,10,11,12,13,14,15,16,17,18,19,20]\n",
    "if [n for n in lista if n%2== 0 ]:\n",
    "    print(lista, \"es par.\")\n",
    "else:\n",
    "    print(lista, \"es impar.\")\n"
   ]
  }
 ],
 "metadata": {
  "kernelspec": {
   "display_name": "Python 3",
   "language": "python",
   "name": "python3"
  },
  "language_info": {
   "codemirror_mode": {
    "name": "ipython",
    "version": 3
   },
   "file_extension": ".py",
   "mimetype": "text/x-python",
   "name": "python",
   "nbconvert_exporter": "python",
   "pygments_lexer": "ipython3",
   "version": "3.11.3"
  },
  "orig_nbformat": 4
 },
 "nbformat": 4,
 "nbformat_minor": 2
}
